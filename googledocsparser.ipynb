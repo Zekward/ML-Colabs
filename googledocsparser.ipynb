{
  "nbformat": 4,
  "nbformat_minor": 0,
  "metadata": {
    "colab": {
      "provenance": []
    },
    "kernelspec": {
      "name": "python3",
      "display_name": "Python 3"
    },
    "language_info": {
      "name": "python"
    }
  },
  "cells": [
    {
      "cell_type": "code",
      "execution_count": null,
      "metadata": {
        "colab": {
          "base_uri": "https://localhost:8080/"
        },
        "collapsed": true,
        "id": "8vZ3D3CK7l9u",
        "outputId": "f0806be4-917b-4640-a7ad-ac12213dbc45"
      },
      "outputs": [
        {
          "output_type": "stream",
          "name": "stdout",
          "text": [
            "█▀▀▀\n",
            "█▀▀ \n",
            "█   \n",
            "██░    ███░ ██████░    ███████░  ██░           ███░ ██████████░ ████████░    ████████░  \n",
            "██░  ███░     ██░    ███░    ██░ ███░   ███░   ██░  ██░         ██░     ██░  ██░     ██░\n",
            "██░███░       ██░   ███░          ██░  █████░ ███░  ██░         ██░      ██░ ██░     ██░\n",
            "████░         ██░   ██░           ███░ ██░██░ ██░   ████████░   ██░      ██░ ████████░  \n",
            "██░███░       ██░   ███░           ██░██░ ██░██░    ██░         ██░      ██░ ██░     ██░\n",
            "██░  ███░     ██░    ███░    ██░   ████░   ████░    ██░         ██░     ██░  ██░     ██░\n",
            "██░    ███░ ██████░    ███████░     ██░     ██░     ██████████░ ████████░    ████████░  \n"
          ]
        }
      ],
      "source": [
        "import requests\n",
        "from bs4 import BeautifulSoup\n",
        "\n",
        "url1 = \"https://docs.google.com/document/d/e/2PACX-1vRMx5YQlZNa3ra8dYYxmv-QIQ3YJe8tbI3kqcuC7lQiZm-CSEznKfN_HYNSpoXcZIV3Y_O3YoUB1ecq/pub\"\n",
        "url2 = \"https://docs.google.com/document/d/e/2PACX-1vTER-wL5E8YC9pxDx43gk8eIds59GtUUk4nJo_ZWagbnrH0NFvMXIw6VWFLpf5tWTZIT9P9oLIoFJ6A/pub\"\n",
        "\n",
        "\n",
        "def fetch_html(url):\n",
        "  \"\"\"\n",
        "  Fetches HTML content of published Google doc.\n",
        "\n",
        "  Args:\n",
        "    url (str): Public URL of Google doc\n",
        "\n",
        "  Returns:\n",
        "    str: HTML content as a string\n",
        "  \"\"\"\n",
        "  response = requests.get(url)\n",
        "  return response.text\n",
        "\n",
        "def parse_html(html_content):\n",
        "  \"\"\"\n",
        "  Parses HTML table to extract data (x, y, char)\n",
        "\n",
        "  Args:\n",
        "    html_content (str): HTML content as a string\n",
        "\n",
        "  Returns:\n",
        "    List of tuples (int, int, str): Characters with corresponding coordinates\n",
        "  \"\"\"\n",
        "  soup = BeautifulSoup(html_content, \"html.parser\")\n",
        "  rows = soup.find_all('tr')\n",
        "  data = []\n",
        "  # extract x, y, char values\n",
        "  for row in rows[1:]:\n",
        "    cells = row.find_all('td')\n",
        "    x = int(cells[0].get_text(strip=True))\n",
        "    char = cells[1].get_text(strip=True)\n",
        "    y = int(cells[2].get_text(strip=True))\n",
        "    data.append((x, y, char))\n",
        "  return data\n",
        "\n",
        "def print_grid(data):\n",
        "  \"\"\"\n",
        "  Builds and prints grid based on data\n",
        "\n",
        "  Args:\n",
        "    data (List of tuples (int, int, str)): List containing characters to print\n",
        "\n",
        "  Returns:\n",
        "    None\n",
        "  \"\"\"\n",
        "  # create grid with dimensions of largest x and y coordinate\n",
        "  max_x = max(x for x, _, _ in data)\n",
        "  max_y = max(y for _, y, _ in data)\n",
        "  grid = []\n",
        "  # creates a grid of ' ' characters\n",
        "  for y in range(max_y + 1):\n",
        "    row = []\n",
        "    for x in range(max_x + 1):\n",
        "      row.append(' ')\n",
        "    grid.append(row)\n",
        "  # fills in chars at specified locations\n",
        "  for x, y, char in data:\n",
        "    grid[y][x] = char\n",
        "  for row in reversed(grid):\n",
        "    print(''.join(row))\n",
        "\n",
        "def print_message(url):\n",
        "  \"\"\"\n",
        "  Full pipeline to fetch, parse, and print grid\n",
        "\n",
        "  Args:\n",
        "    url (str): Public URL of Google doc\n",
        "\n",
        "  Returns:\n",
        "    None\n",
        "  \"\"\"\n",
        "  html_content = fetch_html(url)\n",
        "  data = parse_html(html_content)\n",
        "  print_grid(data)\n",
        "\n",
        "print_message(url1)\n",
        "print_message(url2)\n",
        "\n",
        "\n"
      ]
    },
    {
      "cell_type": "code",
      "source": [],
      "metadata": {
        "id": "BBO8KgSUF0_B"
      },
      "execution_count": null,
      "outputs": []
    }
  ]
}